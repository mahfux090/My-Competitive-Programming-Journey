{
 "cells": [
  {
   "cell_type": "markdown",
   "id": "7876d431",
   "metadata": {},
   "source": [
    "### Smart Light Pilot"
   ]
  },
  {
   "cell_type": "code",
   "execution_count": null,
   "id": "2246a1fb",
   "metadata": {},
   "outputs": [
    {
     "name": "stdout",
     "output_type": "stream",
     "text": [
      "NO\n"
     ]
    }
   ],
   "source": [
    "inp=input()\n",
    "number=inp.split()\n",
    "n=float(number[0])\n",
    "m=float(number[1])\n",
    "\n",
    "if n>=m:\n",
    "    print(\"ON\")\n",
    "else: \n",
    "    print(\"OFF\")"
   ]
  },
  {
   "cell_type": "markdown",
   "id": "f798d4fa",
   "metadata": {},
   "source": [
    "### Sensor Calibrator — Min-Max Scaling"
   ]
  },
  {
   "cell_type": "code",
   "execution_count": null,
   "id": "26bc45ef",
   "metadata": {},
   "outputs": [
    {
     "name": "stdout",
     "output_type": "stream",
     "text": [
      "0.0\n"
     ]
    }
   ],
   "source": [
    "inp=input()\n",
    "number=inp.split()\n",
    "x=float(number[0])\n",
    "min_v=float(number[1])\n",
    "max_v=float(number[2])\n",
    "\n",
    "norm = (x - min_v) / (max_v - min_v)\n",
    "print(f\"{norm:.2f}\")"
   ]
  },
  {
   "cell_type": "markdown",
   "id": "19b14bf7",
   "metadata": {},
   "source": [
    "### Mini Loss Tracker"
   ]
  },
  {
   "cell_type": "code",
   "execution_count": 4,
   "id": "47c0318b",
   "metadata": {},
   "outputs": [
    {
     "name": "stdout",
     "output_type": "stream",
     "text": [
      "PASS\n"
     ]
    }
   ],
   "source": [
    "n=int(input())\n",
    "tg=float(input())\n",
    "sum_lose=0\n",
    "for i in range(n):\n",
    "    val=float(input())\n",
    "    sum_lose+=val\n",
    "avg=sum_lose/n\n",
    "if avg<=tg:\n",
    "    print(\"PASS\")\n",
    "else:\n",
    "    print(\"RETRY\")"
   ]
  },
  {
   "cell_type": "markdown",
   "id": "5150e442",
   "metadata": {},
   "source": [
    "### Majority Vote Gate"
   ]
  },
  {
   "cell_type": "code",
   "execution_count": 8,
   "id": "c088ad49",
   "metadata": {},
   "outputs": [
    {
     "name": "stdout",
     "output_type": "stream",
     "text": [
      "ACCEPT\n"
     ]
    }
   ],
   "source": [
    "n=int(input())\n",
    "yes_ct=0 ; no_ct=0\n",
    "\n",
    "for i in range (n):\n",
    "    inp=input()\n",
    "    if inp==\"YES\":\n",
    "        yes_ct+=1\n",
    "    else:\n",
    "        no_ct+=1\n",
    "if yes_ct>=no_ct:\n",
    "    print(\"ACCEPT\")\n",
    "else:\n",
    "    print(\"REJECT\")"
   ]
  }
 ],
 "metadata": {
  "kernelspec": {
   "display_name": "Python 3",
   "language": "python",
   "name": "python3"
  },
  "language_info": {
   "codemirror_mode": {
    "name": "ipython",
    "version": 3
   },
   "file_extension": ".py",
   "mimetype": "text/x-python",
   "name": "python",
   "nbconvert_exporter": "python",
   "pygments_lexer": "ipython3",
   "version": "3.10.11"
  }
 },
 "nbformat": 4,
 "nbformat_minor": 5
}
