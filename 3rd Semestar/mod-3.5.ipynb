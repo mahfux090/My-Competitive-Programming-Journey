{
 "cells": [
  {
   "cell_type": "code",
   "execution_count": null,
   "id": "eb2a0c12",
   "metadata": {},
   "outputs": [
    {
     "name": "stdout",
     "output_type": "stream",
     "text": [
      "Neutral Mood\n"
     ]
    }
   ],
   "source": [
    "message=input()\n",
    "if message.find(\"happy\")!=-1 or message.find(\"joy\")!=-1 or message.find(\"smile\")!=-1:\n",
    "    print(\"Happy Mode\")\n",
    "elif message.find(\"sad\")!=-1 or message.find(\"cry\")!=-1 or message.find(\"angry\")!=-1:\n",
    "    print(\"Sad Mood\")\n",
    "else:\n",
    "    print(\"Neutral Mood\")"
   ]
  },
  {
   "cell_type": "code",
   "execution_count": 17,
   "id": "4f2581b4",
   "metadata": {},
   "outputs": [
    {
     "name": "stdout",
     "output_type": "stream",
     "text": [
      "Normal Image\n"
     ]
    }
   ],
   "source": [
    "inp=input()\n",
    "px=inp.split()\n",
    "px_sz=len(px)\n",
    "sum=0\n",
    "for i in range(px_sz):\n",
    "    sum+=int(px[i])\n",
    "avg=sum/px_sz\n",
    "if avg<85:\n",
    "    print(\"Dark Image\")\n",
    "elif avg>=85 and avg<=170:\n",
    "    print(\"Normal Image\")\n",
    "else:\n",
    "    print(\"Bright Image\")"
   ]
  },
  {
   "cell_type": "code",
   "execution_count": null,
   "id": "688170a9",
   "metadata": {},
   "outputs": [
    {
     "name": "stdout",
     "output_type": "stream",
     "text": [
      "AI Detected\n",
      "6\n"
     ]
    }
   ],
   "source": [
    "message = input()\n",
    "keywords = [\"ai\", \"data\", \"model\", \"learn\", \"train\", \"neural\"]\n",
    "\n",
    "count = 0\n",
    "for word in keywords:\n",
    "    if message.find(word) != -1:\n",
    "        count += 1\n",
    "\n",
    "if count >= 2:\n",
    "    print(\"AI Detected\")\n",
    "else:\n",
    "    print(\"Not AI Related\")\n"
   ]
  }
 ],
 "metadata": {
  "kernelspec": {
   "display_name": "Python 3",
   "language": "python",
   "name": "python3"
  },
  "language_info": {
   "codemirror_mode": {
    "name": "ipython",
    "version": 3
   },
   "file_extension": ".py",
   "mimetype": "text/x-python",
   "name": "python",
   "nbconvert_exporter": "python",
   "pygments_lexer": "ipython3",
   "version": "3.10.11"
  }
 },
 "nbformat": 4,
 "nbformat_minor": 5
}
