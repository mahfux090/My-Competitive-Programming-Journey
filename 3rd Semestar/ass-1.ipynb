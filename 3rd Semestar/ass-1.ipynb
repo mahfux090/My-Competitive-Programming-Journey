{
 "cells": [
  {
   "cell_type": "code",
   "execution_count": 4,
   "id": "2a4cba0c",
   "metadata": {},
   "outputs": [
    {
     "name": "stdout",
     "output_type": "stream",
     "text": [
      "[6, 8, 10]\n"
     ]
    }
   ],
   "source": [
    "inp=input()\n",
    "number_list=map(int,inp.split())\n",
    "even_number=filter(lambda x:x%2==0,number_list)\n",
    "print(list(even_number))"
   ]
  },
  {
   "cell_type": "code",
   "execution_count": 8,
   "id": "78c275fb",
   "metadata": {},
   "outputs": [
    {
     "name": "stdout",
     "output_type": "stream",
     "text": [
      "0.8333333333333334\n"
     ]
    }
   ],
   "source": [
    "def safe_divide(a, b):\n",
    "    try:\n",
    "        result = a / b\n",
    "        print(result)\n",
    "    except ZeroDivisionError:\n",
    "        print(\"Division by zero\")\n",
    "\n",
    "inp = input()\n",
    "numbers = list(map(int, inp.split()))\n",
    "a = numbers[0]\n",
    "b = numbers[1]\n",
    "safe_divide(a, b)"
   ]
  },
  {
   "cell_type": "code",
   "execution_count": null,
   "id": "fe5e2d07",
   "metadata": {},
   "outputs": [],
   "source": [
    "class Shape:\n",
    "    def area(self):\n",
    "        return 0\n",
    "\n",
    "class Rectangle(Shape):\n",
    "    def __init__(self, w, h):\n",
    "        self.w = w\n",
    "        self.h = h\n",
    "    def area(self):\n",
    "        return self.w * self.h\n",
    "\n",
    "class Circle(Shape):\n",
    "    def __init__(self, r):\n",
    "        self.r = r\n",
    "    def area(self):\n",
    "        return 3.1416 * (self.r ** 2)\n",
    "\n",
    "\n",
    "inp = input().split()\n",
    "shape_type = inp[0]\n",
    "\n",
    "if shape_type == \"Rectangle\":\n",
    "    w = float(inp[1])\n",
    "    h = float(inp[2])\n",
    "    shape = Rectangle(w, h)\n",
    "elif shape_type == \"Circle\":\n",
    "    r = float(inp[1])\n",
    "    shape = Circle(r)\n",
    "else:\n",
    "    shape = Shape()\n",
    "\n",
    "print(f\"Area: {shape.area():.2f}\")"
   ]
  },
  {
   "cell_type": "code",
   "execution_count": 10,
   "id": "7073e2ab",
   "metadata": {},
   "outputs": [
    {
     "name": "stdout",
     "output_type": "stream",
     "text": [
      "ami\n"
     ]
    }
   ],
   "source": [
    "str  = input().split()\n",
    "longest_word = str[0]\n",
    "\n",
    "for word in str:\n",
    "    if len(word) > len(longest_word):\n",
    "        longest_word = word\n",
    "\n",
    "print(longest_word)\n"
   ]
  },
  {
   "cell_type": "code",
   "execution_count": null,
   "id": "764e8a05",
   "metadata": {},
   "outputs": [
    {
     "name": "stdout",
     "output_type": "stream",
     "text": [
      "Strong Number\n"
     ]
    }
   ],
   "source": [
    "def factorial(n):\n",
    "    fact = 1\n",
    "    for i in range(1,n+1):\n",
    "        fact *= i\n",
    "    return fact\n",
    "\n",
    "num = int(input())\n",
    "temp = num\n",
    "sum = 0\n",
    "\n",
    "while temp>0:\n",
    "    x = temp%10\n",
    "    sum += factorial(x)\n",
    "    temp //= 10\n",
    "\n",
    "if sum == num:\n",
    "    print(\"Strong Number\")\n",
    "else:\n",
    "    print(\"Not Strong Number\")"
   ]
  }
 ],
 "metadata": {
  "kernelspec": {
   "display_name": "Python 3",
   "language": "python",
   "name": "python3"
  },
  "language_info": {
   "codemirror_mode": {
    "name": "ipython",
    "version": 3
   },
   "file_extension": ".py",
   "mimetype": "text/x-python",
   "name": "python",
   "nbconvert_exporter": "python",
   "pygments_lexer": "ipython3",
   "version": "3.10.11"
  }
 },
 "nbformat": 4,
 "nbformat_minor": 5
}
