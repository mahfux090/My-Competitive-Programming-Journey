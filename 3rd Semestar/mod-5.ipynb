{
 "cells": [
  {
   "cell_type": "code",
   "execution_count": null,
   "id": "c829c282",
   "metadata": {},
   "outputs": [],
   "source": [
    "S = input()\n",
    "count = {}\n",
    "\n",
    "for ch in S:\n",
    "    if ch in count:\n",
    "        count[ch] += 1\n",
    "    else:\n",
    "        count[ch] = 1\n",
    "\n",
    "for ch in sorted(count.keys()):\n",
    "    print(f\"{ch} : {count[ch]}\")\n"
   ]
  },
  {
   "cell_type": "code",
   "execution_count": null,
   "id": "a7f165fd",
   "metadata": {},
   "outputs": [],
   "source": [
    "ip=input()\n",
    "inp=ip.split()\n",
    "n=int(inp[0])\n",
    "m=int(inp[1])\n",
    "\n",
    "array=input()\n",
    "ar=list(array.split())\n",
    "a=input()\n",
    "a_set=set(a.split())\n",
    "b=input()\n",
    "b_set=set(b.split())\n",
    "\n",
    "happiness=0\n",
    "for x in ar:\n",
    "    if x in a_set:\n",
    "        happiness+=1\n",
    "    elif x in b_set:\n",
    "        happiness-=1\n",
    "\n",
    "print(happiness)"
   ]
  },
  {
   "cell_type": "code",
   "execution_count": null,
   "id": "c857485d",
   "metadata": {},
   "outputs": [],
   "source": [
    "n=int(input())\n",
    "arry=input()\n",
    "arr=tuple(int(arry.split()))\n",
    "print(hash(arr))"
   ]
  }
 ],
 "metadata": {
  "language_info": {
   "name": "python"
  }
 },
 "nbformat": 4,
 "nbformat_minor": 5
}
